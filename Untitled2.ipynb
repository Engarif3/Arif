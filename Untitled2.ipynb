{
 "cells": [
  {
   "cell_type": "code",
   "execution_count": 13,
   "metadata": {},
   "outputs": [],
   "source": [
    "import cv2\n",
    "import time\n",
    "\n",
    "\n",
    "video_src = 'pedestrians.avi'\n",
    "cap = cv2.VideoCapture(video_src)\n",
    "\n",
    "fcount=0\n",
    "\n",
    "            \n",
   
    "\n",
    "cascade = cv2.CascadeClassifier('last0.xml')\n",
    "\n",
    "while True:\n",
    
    
    "        ret, img = cap.read()\n",
    
    "\n",
    
    "\n",
    "        if (type(img) == type(None)):\n",
    "            break\n",
    "\n",
    "        gray = cv2.cvtColor(img, cv2.COLOR_BGR2GRAY)\n",
    "        pedestrian = cascade.detectMultiScale(gray,2.3,5)\n",
    "        font=cv2.FONT_HERSHEY_SIMPLEX\n",
    "        
    "\n",
    "\n",
    "        for(a,b,c,d) in pedestrian:\n",
    "            cv2.rectangle(img,(a,b),(a+c,b+d),(0,255,0),1)\n",
    "            cv2.putText(img, 'Pedestrian', (a, b), font, 0.5, (0, 0, 200), 1)\n",
    "            \n",
    "\n",
    "        cv2.imshow('video', img)\n",
    "\n",
    "        if cv2.waitKey(33) == 27:\n",
    "            break\n",
    "        \n",
    
    "\n",
    "cv2.destroyAllWindows()"
   ]
  },
  {
   "cell_type": "markdown",
   "metadata": {},
   "source": [
    "##### "
   ]
  },
  {
   "cell_type": "code",
   "execution_count": null,
   "metadata": {},
   "outputs": [],
   "source": []
  },
  {
   "cell_type": "code",
   "execution_count": null,
   "metadata": {},
   "outputs": [],
   "source": []
  },
  {
   "cell_type": "code",
   "execution_count": null,
   "metadata": {},
   "outputs": [],
   "source": []
  }
 ],
 "metadata": {
  "kernelspec": {
   "display_name": "Python 3",
   "language": "python",
   "name": "python3"
  },
  "language_info": {
   "codemirror_mode": {
    "name": "ipython",
    "version": 3
   },
   "file_extension": ".py",
   "mimetype": "text/x-python",
   "name": "python",
   "nbconvert_exporter": "python",
   "pygments_lexer": "ipython3",
   "version": "3.7.7"
  }
 },
 "nbformat": 4,
 "nbformat_minor": 2
}
